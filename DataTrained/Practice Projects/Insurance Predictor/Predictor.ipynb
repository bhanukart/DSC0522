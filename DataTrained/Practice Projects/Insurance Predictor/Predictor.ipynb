{
 "cells": [
  {
   "cell_type": "code",
   "execution_count": 1,
   "id": "ef08efb3",
   "metadata": {},
   "outputs": [],
   "source": [
    "import pickle"
   ]
  },
  {
   "cell_type": "code",
   "execution_count": 2,
   "id": "8eb2876b",
   "metadata": {},
   "outputs": [],
   "source": [
    "with open('RandomForestRegressor.pkl' , 'rb') as f:\n",
    "    model = pickle.load(f)"
   ]
  },
  {
   "cell_type": "code",
   "execution_count": 5,
   "id": "0dbebe29",
   "metadata": {},
   "outputs": [
    {
     "name": "stdout",
     "output_type": "stream",
     "text": [
      "Please enter the Age of the person:19\n",
      "Please enter the Sex of the passenger - 0 for male and 1 for female:1\n",
      "Please enter the BMI of the person:28\n",
      "Please enter the number of children the person has:0\n",
      "Please enter whether the person is a smoker or not - 0 for non smoker and 1 for smoker:1\n",
      "Please enter region of the person southwest:0,southeast:1,northwest:2,northeast:3:0\n"
     ]
    },
    {
     "data": {
      "text/plain": [
       "array([17124.6063416])"
      ]
     },
     "execution_count": 5,
     "metadata": {},
     "output_type": "execute_result"
    }
   ],
   "source": [
    "tot=[]\n",
    "age= int(input('Please enter the Age of the person:'))\n",
    "tot.append(age)\n",
    "sex= int(input('Please enter the Sex of the passenger - 0 for male and 1 for female:'))\n",
    "tot.append(sex)\n",
    "bmi= float(input('Please enter the BMI of the person:'))\n",
    "tot.append(bmi)\n",
    "child= int(input('Please enter the number of children the person has:'))\n",
    "tot.append(child)\n",
    "smoke= int(input('Please enter whether the person is a smoker or not - 0 for non smoker and 1 for smoker:'))\n",
    "tot.append(smoke)\n",
    "region= int(input('Please enter region of the person southwest:0,southeast:1,northwest:2,northeast:3:'))\n",
    "tot.append(region)\n",
    "\n",
    "\n",
    "model.predict([tot])"
   ]
  },
  {
   "cell_type": "code",
   "execution_count": null,
   "id": "e5fb5ba8",
   "metadata": {},
   "outputs": [],
   "source": [
    "19\t1\t27.900\t0\t1\t0\t16884.92400"
   ]
  }
 ],
 "metadata": {
  "kernelspec": {
   "display_name": "Python 3 (ipykernel)",
   "language": "python",
   "name": "python3"
  },
  "language_info": {
   "codemirror_mode": {
    "name": "ipython",
    "version": 3
   },
   "file_extension": ".py",
   "mimetype": "text/x-python",
   "name": "python",
   "nbconvert_exporter": "python",
   "pygments_lexer": "ipython3",
   "version": "3.9.7"
  }
 },
 "nbformat": 4,
 "nbformat_minor": 5
}
