{
 "cells": [
  {
   "cell_type": "code",
   "execution_count": 1,
   "id": "2beb1039",
   "metadata": {},
   "outputs": [],
   "source": [
    "import pickle"
   ]
  },
  {
   "cell_type": "code",
   "execution_count": 2,
   "id": "030dc767",
   "metadata": {},
   "outputs": [],
   "source": [
    "with open('RandForGSCV.pkl' , 'rb') as f:\n",
    "    model = pickle.load(f)"
   ]
  },
  {
   "cell_type": "code",
   "execution_count": null,
   "id": "429fd6d6",
   "metadata": {},
   "outputs": [],
   "source": []
  },
  {
   "cell_type": "code",
   "execution_count": 4,
   "id": "ea8f64c4",
   "metadata": {},
   "outputs": [
    {
     "name": "stdout",
     "output_type": "stream",
     "text": [
      "Please enter the Class of the passenger:1\n",
      "Please enter the Age of the passenger:38\n",
      "Please enter the Sex of the passenger - 0 for male and 1 for female:1\n",
      "Please enter the Fare paid by the passenger:71\n",
      "Please enter the number of relatives of the passenger:1\n"
     ]
    },
    {
     "data": {
      "text/plain": [
       "array([1], dtype=int64)"
      ]
     },
     "execution_count": 4,
     "metadata": {},
     "output_type": "execute_result"
    }
   ],
   "source": [
    "tot=[]\n",
    "pclass= int(input('Please enter the Class of the passenger:'))\n",
    "tot.append(pclass)\n",
    "age= int(input('Please enter the Age of the passenger:'))\n",
    "tot.append(age)\n",
    "sex= int(input('Please enter the Sex of the passenger - 0 for male and 1 for female:'))\n",
    "tot.append(sex)\n",
    "fare= float(input('Please enter the Fare paid by the passenger:'))\n",
    "tot.append(fare)\n",
    "rel= int(input('Please enter the number of relatives of the passenger:'))\n",
    "tot.append(rel)\n",
    "\n",
    "model.predict([tot])"
   ]
  }
 ],
 "metadata": {
  "kernelspec": {
   "display_name": "Python 3 (ipykernel)",
   "language": "python",
   "name": "python3"
  },
  "language_info": {
   "codemirror_mode": {
    "name": "ipython",
    "version": 3
   },
   "file_extension": ".py",
   "mimetype": "text/x-python",
   "name": "python",
   "nbconvert_exporter": "python",
   "pygments_lexer": "ipython3",
   "version": "3.9.7"
  }
 },
 "nbformat": 4,
 "nbformat_minor": 5
}
